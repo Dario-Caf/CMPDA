{
  "nbformat": 4,
  "nbformat_minor": 0,
  "metadata": {
    "colab": {
      "name": "LSTM  tutorial.ipynb",
      "provenance": [],
      "collapsed_sections": []
    },
    "language_info": {
      "codemirror_mode": {
        "name": "ipython",
        "version": 3
      },
      "file_extension": ".py",
      "mimetype": "text/x-python",
      "name": "python",
      "nbconvert_exporter": "python",
      "pygments_lexer": "ipython3",
      "version": "3.7.3"
    },
    "kernelspec": {
      "name": "python3",
      "display_name": "Python 3"
    },
    "accelerator": "GPU"
  },
  "cells": [
    {
      "cell_type": "markdown",
      "metadata": {
        "id": "6Y8mytY6WVcF"
      },
      "source": [
        "#Tutorial on LSTM\n",
        "We try to build a LSTM that find the maximum in a sequence of numbers and returns its value and position"
      ]
    },
    {
      "cell_type": "markdown",
      "metadata": {
        "id": "uxgS64DmqCrH"
      },
      "source": [
        "## Import useful stuff"
      ]
    },
    {
      "cell_type": "code",
      "metadata": {
        "id": "jO_-Tguu60O9"
      },
      "source": [
        "from keras.layers import Input,Dense,LSTM,BatchNormalization\n",
        "from keras.models import Model\n",
        "import numpy as np\n",
        "from math import *\n",
        "from matplotlib import pyplot as plt \n"
      ],
      "execution_count": null,
      "outputs": []
    },
    {
      "cell_type": "markdown",
      "metadata": {
        "id": "JcejQQHu8WQa"
      },
      "source": [
        "## Lets generate some data\n",
        "\n",
        "We now generate ourself some images with a circle or a rectangle, of random color, in a random position.\n",
        "\n",
        "Three different modes of generating the images are implemented:\n",
        "\n",
        "*   A single shape per figure\n",
        "*   Multiple shapes mixed in each figure\n",
        "*   A single figure keeping track of the \"bounding box\"\n",
        "\n",
        "\n",
        "\n",
        "### Additional Exercise\n",
        "1. Try adding some random noise in the image background\n",
        "2. Try adding more classes such e.g. Lines or Ellipses\n"
      ]
    },
    {
      "cell_type": "code",
      "metadata": {
        "id": "LGItu2U4lVh7",
        "colab": {
          "base_uri": "https://localhost:8080/"
        },
        "outputId": "c3195696-5ea0-4ff6-cf35-58782c3ca8fe"
      },
      "source": [
        "\n",
        "\n",
        "nsamples=20000\n",
        "maxlen=5\n",
        "\n",
        "data=np.zeros((nsamples,maxlen,2))\n",
        "maxima=np.zeros(nsamples)\n",
        "maximaIdx=np.zeros(nsamples)\n",
        "\n",
        "for i in range(nsamples) :\n",
        "  l=int(np.random.rand()*maxlen)+1\n",
        "  seq=np.random.rand(l,2)\n",
        "  pad=np.zeros((maxlen-l,2))\n",
        "  row=np.concatenate((seq,pad))\n",
        "  mod=[(x[0]**2+x[1]**2)**0.5 for x in row]\n",
        "  maxima[i]=np.max(mod)\n",
        "  maximaIdx[i]=np.argmax(mod)\n",
        "  data[i,:]=row\n",
        "\n",
        "targets=np.stack((maxima,maximaIdx),axis=-1)\n",
        "\n",
        "print(data)\n",
        "\n",
        "print(targets)"
      ],
      "execution_count": null,
      "outputs": [
        {
          "output_type": "stream",
          "name": "stdout",
          "text": [
            "[[[0.01628079 0.49744278]\n",
            "  [0.89640755 0.85205113]\n",
            "  [0.83710484 0.83905751]\n",
            "  [0.26536733 0.43817058]\n",
            "  [0.72227534 0.10071202]]\n",
            "\n",
            " [[0.73515252 0.48735656]\n",
            "  [0.59037031 0.24466195]\n",
            "  [0.10204621 0.18168086]\n",
            "  [0.25070817 0.21634683]\n",
            "  [0.4360455  0.19555537]]\n",
            "\n",
            " [[0.42730126 0.3520332 ]\n",
            "  [0.70890929 0.52649713]\n",
            "  [0.63027741 0.45239076]\n",
            "  [0.         0.        ]\n",
            "  [0.         0.        ]]\n",
            "\n",
            " ...\n",
            "\n",
            " [[0.98324428 0.40376576]\n",
            "  [0.         0.        ]\n",
            "  [0.         0.        ]\n",
            "  [0.         0.        ]\n",
            "  [0.         0.        ]]\n",
            "\n",
            " [[0.99569842 0.78681615]\n",
            "  [0.64146717 0.89769338]\n",
            "  [0.         0.        ]\n",
            "  [0.         0.        ]\n",
            "  [0.         0.        ]]\n",
            "\n",
            " [[0.00625818 0.14177026]\n",
            "  [0.97471348 0.94998554]\n",
            "  [0.24938813 0.07619611]\n",
            "  [0.36306611 0.33484299]\n",
            "  [0.57434253 0.41506622]]]\n",
            "[[1.23674477 1.        ]\n",
            " [0.8820236  0.        ]\n",
            " [0.88303545 1.        ]\n",
            " ...\n",
            " [1.06291867 0.        ]\n",
            " [1.26905279 0.        ]\n",
            " [1.36108004 1.        ]]\n"
          ]
        }
      ]
    },
    {
      "cell_type": "code",
      "metadata": {
        "id": "pJLV4GOu9vGu",
        "colab": {
          "base_uri": "https://localhost:8080/"
        },
        "outputId": "c93347cb-3421-458c-aadc-05a37f550e4a"
      },
      "source": [
        "inputs=Input(shape=(maxlen,2,))\n",
        "norm=BatchNormalization()(inputs)\n",
        "hidden=  LSTM(80)(norm)\n",
        "#hidden=  LSTM(20, activation='relu')(inputs)\n",
        "hidden=  Dense(30, activation='relu')(hidden)\n",
        "hidden=  Dense(20, activation='relu')(hidden)\n",
        "outputs=  Dense(2, activation='relu')(hidden)\n",
        "model = Model(inputs=inputs, outputs=outputs)\n",
        "model.compile(loss=\"MSE\", optimizer='adam')\n",
        "\n",
        "model.summary()"
      ],
      "execution_count": null,
      "outputs": [
        {
          "output_type": "stream",
          "name": "stdout",
          "text": [
            "Model: \"model\"\n",
            "_________________________________________________________________\n",
            " Layer (type)                Output Shape              Param #   \n",
            "=================================================================\n",
            " input_1 (InputLayer)        [(None, 5, 2)]            0         \n",
            "                                                                 \n",
            " batch_normalization (BatchN  (None, 5, 2)             8         \n",
            " ormalization)                                                   \n",
            "                                                                 \n",
            " lstm (LSTM)                 (None, 80)                26560     \n",
            "                                                                 \n",
            " dense (Dense)               (None, 30)                2430      \n",
            "                                                                 \n",
            " dense_1 (Dense)             (None, 20)                620       \n",
            "                                                                 \n",
            " dense_2 (Dense)             (None, 2)                 42        \n",
            "                                                                 \n",
            "=================================================================\n",
            "Total params: 29,660\n",
            "Trainable params: 29,656\n",
            "Non-trainable params: 4\n",
            "_________________________________________________________________\n"
          ]
        }
      ]
    },
    {
      "cell_type": "markdown",
      "metadata": {
        "id": "S6JmJFU-9vtN"
      },
      "source": [
        "And now let's fit it to our data.\n",
        "The sample is automatically split in two so that 50% of it is used for validation and the other half for training\n"
      ]
    },
    {
      "cell_type": "code",
      "metadata": {
        "id": "KRMhsQ2nC6oa",
        "colab": {
          "base_uri": "https://localhost:8080/"
        },
        "outputId": "cc0efd53-46f2-40f9-85db-bdd134d33660"
      },
      "source": [
        "print(targets)\n",
        "history=model.fit(data,targets,validation_split=0.5,epochs=100)"
      ],
      "execution_count": null,
      "outputs": [
        {
          "output_type": "stream",
          "name": "stdout",
          "text": [
            "[[1.23674477 1.        ]\n",
            " [0.8820236  0.        ]\n",
            " [0.88303545 1.        ]\n",
            " ...\n",
            " [1.06291867 0.        ]\n",
            " [1.26905279 0.        ]\n",
            " [1.36108004 1.        ]]\n",
            "Epoch 1/100\n",
            "313/313 [==============================] - 10s 11ms/step - loss: 0.3988 - val_loss: 0.2046\n",
            "Epoch 2/100\n",
            "313/313 [==============================] - 3s 9ms/step - loss: 0.1520 - val_loss: 0.1360\n",
            "Epoch 3/100\n",
            "313/313 [==============================] - 3s 10ms/step - loss: 0.1205 - val_loss: 0.1188\n",
            "Epoch 4/100\n",
            "313/313 [==============================] - 3s 10ms/step - loss: 0.1072 - val_loss: 0.1026\n",
            "Epoch 5/100\n",
            "313/313 [==============================] - 3s 10ms/step - loss: 0.0912 - val_loss: 0.0861\n",
            "Epoch 6/100\n",
            "313/313 [==============================] - 3s 8ms/step - loss: 0.0804 - val_loss: 0.1000\n",
            "Epoch 7/100\n",
            "313/313 [==============================] - 3s 9ms/step - loss: 0.0742 - val_loss: 0.0763\n",
            "Epoch 8/100\n",
            "313/313 [==============================] - 3s 10ms/step - loss: 0.0744 - val_loss: 0.0637\n",
            "Epoch 9/100\n",
            "313/313 [==============================] - 3s 11ms/step - loss: 0.0649 - val_loss: 0.0630\n",
            "Epoch 10/100\n",
            "313/313 [==============================] - 3s 9ms/step - loss: 0.0618 - val_loss: 0.0713\n",
            "Epoch 11/100\n",
            "313/313 [==============================] - 3s 10ms/step - loss: 0.0609 - val_loss: 0.0610\n",
            "Epoch 12/100\n",
            "313/313 [==============================] - 3s 10ms/step - loss: 0.0538 - val_loss: 0.0527\n",
            "Epoch 13/100\n",
            "313/313 [==============================] - 3s 9ms/step - loss: 0.0510 - val_loss: 0.0534\n",
            "Epoch 14/100\n",
            "313/313 [==============================] - 3s 10ms/step - loss: 0.0534 - val_loss: 0.0505\n",
            "Epoch 15/100\n",
            "313/313 [==============================] - 3s 9ms/step - loss: 0.0492 - val_loss: 0.0691\n",
            "Epoch 16/100\n",
            "313/313 [==============================] - 3s 10ms/step - loss: 0.0538 - val_loss: 0.0481\n",
            "Epoch 17/100\n",
            "313/313 [==============================] - 3s 10ms/step - loss: 0.0442 - val_loss: 0.0437\n",
            "Epoch 18/100\n",
            "313/313 [==============================] - 3s 9ms/step - loss: 0.0475 - val_loss: 0.0463\n",
            "Epoch 19/100\n",
            "313/313 [==============================] - 3s 9ms/step - loss: 0.0489 - val_loss: 0.0502\n",
            "Epoch 20/100\n",
            "313/313 [==============================] - 3s 9ms/step - loss: 0.0470 - val_loss: 0.0460\n",
            "Epoch 21/100\n",
            "313/313 [==============================] - 3s 10ms/step - loss: 0.0429 - val_loss: 0.0430\n",
            "Epoch 22/100\n",
            "313/313 [==============================] - 3s 9ms/step - loss: 0.0440 - val_loss: 0.0434\n",
            "Epoch 23/100\n",
            "313/313 [==============================] - 3s 10ms/step - loss: 0.0415 - val_loss: 0.0406\n",
            "Epoch 24/100\n",
            "313/313 [==============================] - 3s 10ms/step - loss: 0.0428 - val_loss: 0.0431\n",
            "Epoch 25/100\n",
            "313/313 [==============================] - 3s 10ms/step - loss: 0.0427 - val_loss: 0.0505\n",
            "Epoch 26/100\n",
            "313/313 [==============================] - 3s 8ms/step - loss: 0.0375 - val_loss: 0.0408\n",
            "Epoch 27/100\n",
            "313/313 [==============================] - 3s 10ms/step - loss: 0.0448 - val_loss: 0.0526\n",
            "Epoch 28/100\n",
            "313/313 [==============================] - 3s 10ms/step - loss: 0.0378 - val_loss: 0.0376\n",
            "Epoch 29/100\n",
            "313/313 [==============================] - 3s 10ms/step - loss: 0.0359 - val_loss: 0.0364\n",
            "Epoch 30/100\n",
            "313/313 [==============================] - 3s 9ms/step - loss: 0.0393 - val_loss: 0.0471\n",
            "Epoch 31/100\n",
            "313/313 [==============================] - 3s 10ms/step - loss: 0.0387 - val_loss: 0.0382\n",
            "Epoch 32/100\n",
            "313/313 [==============================] - 3s 9ms/step - loss: 0.0384 - val_loss: 0.0358\n",
            "Epoch 33/100\n",
            "313/313 [==============================] - 3s 10ms/step - loss: 0.0345 - val_loss: 0.0435\n",
            "Epoch 34/100\n",
            "313/313 [==============================] - 3s 9ms/step - loss: 0.0351 - val_loss: 0.0480\n",
            "Epoch 35/100\n",
            "313/313 [==============================] - 3s 10ms/step - loss: 0.0370 - val_loss: 0.0384\n",
            "Epoch 36/100\n",
            "313/313 [==============================] - 3s 10ms/step - loss: 0.0379 - val_loss: 0.0391\n",
            "Epoch 37/100\n",
            "313/313 [==============================] - 3s 9ms/step - loss: 0.0364 - val_loss: 0.0385\n",
            "Epoch 38/100\n",
            "313/313 [==============================] - 3s 8ms/step - loss: 0.0313 - val_loss: 0.0508\n",
            "Epoch 39/100\n",
            "313/313 [==============================] - 3s 10ms/step - loss: 0.0379 - val_loss: 0.0376\n",
            "Epoch 40/100\n",
            "313/313 [==============================] - 3s 10ms/step - loss: 0.0340 - val_loss: 0.0369\n",
            "Epoch 41/100\n",
            "313/313 [==============================] - 3s 9ms/step - loss: 0.0374 - val_loss: 0.0397\n",
            "Epoch 42/100\n",
            "313/313 [==============================] - 3s 8ms/step - loss: 0.0324 - val_loss: 0.0361\n",
            "Epoch 43/100\n",
            "313/313 [==============================] - 3s 10ms/step - loss: 0.0323 - val_loss: 0.0336\n",
            "Epoch 44/100\n",
            "313/313 [==============================] - 3s 9ms/step - loss: 0.0331 - val_loss: 0.0476\n",
            "Epoch 45/100\n",
            "313/313 [==============================] - 3s 11ms/step - loss: 0.0303 - val_loss: 0.0383\n",
            "Epoch 46/100\n",
            "313/313 [==============================] - 3s 10ms/step - loss: 0.0377 - val_loss: 0.0406\n",
            "Epoch 47/100\n",
            "313/313 [==============================] - 3s 10ms/step - loss: 0.0331 - val_loss: 0.0405\n",
            "Epoch 48/100\n",
            "313/313 [==============================] - 3s 9ms/step - loss: 0.0345 - val_loss: 0.0452\n",
            "Epoch 49/100\n",
            "313/313 [==============================] - 3s 8ms/step - loss: 0.0317 - val_loss: 0.0440\n",
            "Epoch 50/100\n",
            "313/313 [==============================] - 3s 10ms/step - loss: 0.0274 - val_loss: 0.0405\n",
            "Epoch 51/100\n",
            "313/313 [==============================] - 3s 8ms/step - loss: 0.0263 - val_loss: 0.0363\n",
            "Epoch 52/100\n",
            "313/313 [==============================] - 3s 10ms/step - loss: 0.0331 - val_loss: 0.0507\n",
            "Epoch 53/100\n",
            "313/313 [==============================] - 3s 10ms/step - loss: 0.0326 - val_loss: 0.0430\n",
            "Epoch 54/100\n",
            "313/313 [==============================] - 3s 8ms/step - loss: 0.0286 - val_loss: 0.0345\n",
            "Epoch 55/100\n",
            "313/313 [==============================] - 3s 10ms/step - loss: 0.0311 - val_loss: 0.0386\n",
            "Epoch 56/100\n",
            "313/313 [==============================] - 3s 10ms/step - loss: 0.0283 - val_loss: 0.0374\n",
            "Epoch 57/100\n",
            "313/313 [==============================] - 3s 9ms/step - loss: 0.0296 - val_loss: 0.0453\n",
            "Epoch 58/100\n",
            "313/313 [==============================] - 3s 8ms/step - loss: 0.0328 - val_loss: 0.0425\n",
            "Epoch 59/100\n",
            "313/313 [==============================] - 3s 10ms/step - loss: 0.0270 - val_loss: 0.0376\n",
            "Epoch 60/100\n",
            "313/313 [==============================] - 3s 8ms/step - loss: 0.0275 - val_loss: 0.0413\n",
            "Epoch 61/100\n",
            "313/313 [==============================] - 3s 9ms/step - loss: 0.0312 - val_loss: 0.0483\n",
            "Epoch 62/100\n",
            "313/313 [==============================] - 3s 11ms/step - loss: 0.0281 - val_loss: 0.0450\n",
            "Epoch 63/100\n",
            "313/313 [==============================] - 3s 10ms/step - loss: 0.0248 - val_loss: 0.0393\n",
            "Epoch 64/100\n",
            "313/313 [==============================] - 3s 10ms/step - loss: 0.0245 - val_loss: 0.0364\n",
            "Epoch 65/100\n",
            "313/313 [==============================] - 3s 9ms/step - loss: 0.0283 - val_loss: 0.0392\n",
            "Epoch 66/100\n",
            "313/313 [==============================] - 3s 10ms/step - loss: 0.0253 - val_loss: 0.0439\n",
            "Epoch 67/100\n",
            "313/313 [==============================] - 3s 9ms/step - loss: 0.0272 - val_loss: 0.0401\n",
            "Epoch 68/100\n",
            "313/313 [==============================] - 3s 9ms/step - loss: 0.0262 - val_loss: 0.0437\n",
            "Epoch 69/100\n",
            "313/313 [==============================] - 3s 10ms/step - loss: 0.0290 - val_loss: 0.0369\n",
            "Epoch 70/100\n",
            "313/313 [==============================] - 3s 10ms/step - loss: 0.0229 - val_loss: 0.0390\n",
            "Epoch 71/100\n",
            "313/313 [==============================] - 3s 9ms/step - loss: 0.0242 - val_loss: 0.0400\n",
            "Epoch 72/100\n",
            "313/313 [==============================] - 3s 9ms/step - loss: 0.0235 - val_loss: 0.0368\n",
            "Epoch 73/100\n",
            "313/313 [==============================] - 3s 11ms/step - loss: 0.0234 - val_loss: 0.0375\n",
            "Epoch 74/100\n",
            "313/313 [==============================] - 3s 9ms/step - loss: 0.0255 - val_loss: 0.0507\n",
            "Epoch 75/100\n",
            "313/313 [==============================] - 3s 10ms/step - loss: 0.0236 - val_loss: 0.0436\n",
            "Epoch 76/100\n",
            "313/313 [==============================] - 3s 11ms/step - loss: 0.0239 - val_loss: 0.0403\n",
            "Epoch 77/100\n",
            "313/313 [==============================] - 3s 10ms/step - loss: 0.0250 - val_loss: 0.0412\n",
            "Epoch 78/100\n",
            "313/313 [==============================] - 3s 11ms/step - loss: 0.0214 - val_loss: 0.0393\n",
            "Epoch 79/100\n",
            "313/313 [==============================] - 3s 9ms/step - loss: 0.0211 - val_loss: 0.0366\n",
            "Epoch 80/100\n",
            "313/313 [==============================] - 3s 10ms/step - loss: 0.0209 - val_loss: 0.0421\n",
            "Epoch 81/100\n",
            "313/313 [==============================] - 3s 10ms/step - loss: 0.0247 - val_loss: 0.0436\n",
            "Epoch 82/100\n",
            "313/313 [==============================] - 3s 9ms/step - loss: 0.0254 - val_loss: 0.0397\n",
            "Epoch 83/100\n",
            "313/313 [==============================] - 3s 10ms/step - loss: 0.0221 - val_loss: 0.0398\n",
            "Epoch 84/100\n",
            "313/313 [==============================] - 3s 10ms/step - loss: 0.0182 - val_loss: 0.0414\n",
            "Epoch 85/100\n",
            "313/313 [==============================] - 3s 10ms/step - loss: 0.0213 - val_loss: 0.0435\n",
            "Epoch 86/100\n",
            "313/313 [==============================] - 3s 10ms/step - loss: 0.0247 - val_loss: 0.0470\n",
            "Epoch 87/100\n",
            "313/313 [==============================] - 3s 10ms/step - loss: 0.0223 - val_loss: 0.0443\n",
            "Epoch 88/100\n",
            "313/313 [==============================] - 3s 9ms/step - loss: 0.0217 - val_loss: 0.0403\n",
            "Epoch 89/100\n",
            "313/313 [==============================] - 3s 10ms/step - loss: 0.0196 - val_loss: 0.0450\n",
            "Epoch 90/100\n",
            "313/313 [==============================] - 3s 9ms/step - loss: 0.0205 - val_loss: 0.0499\n",
            "Epoch 91/100\n",
            "313/313 [==============================] - 3s 9ms/step - loss: 0.0248 - val_loss: 0.0396\n",
            "Epoch 92/100\n",
            "313/313 [==============================] - 3s 11ms/step - loss: 0.0204 - val_loss: 0.0395\n",
            "Epoch 93/100\n",
            "313/313 [==============================] - 3s 10ms/step - loss: 0.0210 - val_loss: 0.0404\n",
            "Epoch 94/100\n",
            "313/313 [==============================] - 3s 10ms/step - loss: 0.0190 - val_loss: 0.0426\n",
            "Epoch 95/100\n",
            "313/313 [==============================] - 3s 9ms/step - loss: 0.0212 - val_loss: 0.0445\n",
            "Epoch 96/100\n",
            "313/313 [==============================] - 3s 9ms/step - loss: 0.0179 - val_loss: 0.0466\n",
            "Epoch 97/100\n",
            "313/313 [==============================] - 3s 10ms/step - loss: 0.0194 - val_loss: 0.0440\n",
            "Epoch 98/100\n",
            "313/313 [==============================] - 3s 10ms/step - loss: 0.0179 - val_loss: 0.0478\n",
            "Epoch 99/100\n",
            "313/313 [==============================] - 3s 10ms/step - loss: 0.0203 - val_loss: 0.0408\n",
            "Epoch 100/100\n",
            "313/313 [==============================] - 3s 9ms/step - loss: 0.0213 - val_loss: 0.0529\n"
          ]
        }
      ]
    },
    {
      "cell_type": "markdown",
      "metadata": {
        "id": "DKGPKoUU0Ou0"
      },
      "source": [
        "*history* contains information about the training.  We can now now show the loss vs epoch for both validation and training samples.\n",
        "\n",
        "\n"
      ]
    },
    {
      "cell_type": "code",
      "metadata": {
        "id": "lu2OdNE5OeXb",
        "colab": {
          "base_uri": "https://localhost:8080/"
        },
        "outputId": "aae4702a-36ec-4e5d-d587-e783b2f82929"
      },
      "source": [
        "print(history.history.keys())\n",
        "plt.plot(history.history[\"val_loss\"])\n",
        "plt.plot(history.history[\"loss\"])\n",
        "plt.yscale('log')\n",
        "plt.show()\n",
        "#plt.plot(history.history[\"val_accuracy\"])\n",
        "#plt.plot(history.history[\"accuracy\"])\n",
        "#plt.show()\n"
      ],
      "execution_count": null,
      "outputs": [
        {
          "output_type": "stream",
          "name": "stdout",
          "text": [
            "dict_keys(['loss', 'val_loss'])\n"
          ]
        },
        {
          "output_type": "display_data",
          "data": {
            "image/png": "[encoded data removed]",
            "text/plain": [
              "<Figure size 432x288 with 1 Axes>"
            ]
          },
          "metadata": {
            "needs_background": "light"
          }
        }
      ]
    },
    {
      "cell_type": "code",
      "metadata": {
        "id": "qKxqLjPvEqX3",
        "colab": {
          "base_uri": "https://localhost:8080/"
        },
        "outputId": "4e322681-4606-49d4-bf03-951d76308f13"
      },
      "source": [
        "print(model.predict(np.expand_dims(np.array([[0,0],[0,1],[1,1],[0,0],[0,0]]),axis=0) ))\n",
        "\n",
        "#print(data[0:1])\n",
        "#print(model.predict(data[0:1]))\n",
        "#print(targets[0])"
      ],
      "execution_count": null,
      "outputs": [
        {
          "output_type": "stream",
          "name": "stdout",
          "text": [
            "[[1.3676523 1.9856429]]\n"
          ]
        }
      ]
    },
    {
      "cell_type": "markdown",
      "metadata": {
        "id": "AWGckuGjZRjm"
      },
      "source": [
        "Let's try to mix an image with circles and rectangles and see how the network would evaluate it "
      ]
    },
    {
      "cell_type": "code",
      "metadata": {
        "id": "ej1RCfrcZPLp"
      },
      "source": [
        ""
      ],
      "execution_count": null,
      "outputs": []
    },
    {
      "cell_type": "markdown",
      "metadata": {
        "id": "Se-3QB9YZuXX"
      },
      "source": [
        "The following code can be used to visualize what features the first conv layer is looking at"
      ]
    },
    {
      "cell_type": "code",
      "metadata": {
        "id": "vSgEZ2S4qyKi"
      },
      "source": [
        ""
      ],
      "execution_count": null,
      "outputs": []
    }
  ]
}
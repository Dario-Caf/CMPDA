{
  "nbformat": 4,
  "nbformat_minor": 0,
  "metadata": {
    "colab": {
      "name": "Introduction.ipynb",
      "provenance": [],
      "authorship_tag": "ABX9TyOqZnZ4bMON7jExF2uhDnLb",
      "include_colab_link": true
    },
    "kernelspec": {
      "name": "python3",
      "display_name": "Python 3"
    },
    "language_info": {
      "name": "python"
    }
  },
  "cells": [
    {
      "cell_type": "markdown",
      "metadata": {
        "id": "view-in-github",
        "colab_type": "text"
      },
      "source": [
        "<a href=\"https://colab.research.google.com/github/Dario-Caf/CMPDA/blob/main/shortcuts_tutorial/Introduction.ipynb\" target=\"_parent\"><img src=\"https://colab.research.google.com/assets/colab-badge.svg\" alt=\"Open In Colab\"/></a>"
      ]
    },
    {
      "cell_type": "markdown",
      "source": [
        "What is Colab?\n",
        "==============\n",
        "\n",
        "\"Colaboratory, or “Colab” for short, is a product from Google Research. Colab allows anybody to write and execute arbitrary python code through the browser, and is especially well suited to machine learning, data analysis and education.\""
      ],
      "metadata": {
        "id": "8O2k8iyujRpM"
      }
    },
    {
      "cell_type": "code",
      "execution_count": null,
      "metadata": {
        "id": "bQwVHOobdiZW"
      },
      "outputs": [],
      "source": [
        "(0.1 + 0.2) == 0.3"
      ]
    },
    {
      "cell_type": "code",
      "source": [
        "(1+2)/10 == 3/10"
      ],
      "metadata": {
        "id": "NYUlJIO-gqTE"
      },
      "execution_count": null,
      "outputs": []
    },
    {
      "cell_type": "code",
      "source": [
        "a = [2, 4, 6]"
      ],
      "metadata": {
        "id": "HDmDBLEdwqmp"
      },
      "execution_count": 15,
      "outputs": []
    },
    {
      "cell_type": "code",
      "source": [
        "sum = 0\n",
        "for element in a:\n",
        "  sum = sum + element\n",
        "sum"
      ],
      "metadata": {
        "id": "HW-MWNsYwmZl"
      },
      "execution_count": null,
      "outputs": []
    },
    {
      "cell_type": "markdown",
      "source": [
        "You can also use the bash commands with the \"!\" or \"%\" strings. This environment works as a virtual machine, with dedicated processors and memory. Click on the directory image to visualize the contents."
      ],
      "metadata": {
        "id": "LMMLZn83j-5N"
      }
    },
    {
      "cell_type": "code",
      "source": [
        "!ls                                   # show the content of the current directory"
      ],
      "metadata": {
        "id": "fRxx3b15lIXT"
      },
      "execution_count": null,
      "outputs": []
    },
    {
      "cell_type": "code",
      "source": [
        "!mkdir my_first_dir                   # create a directory\n",
        "!ls"
      ],
      "metadata": {
        "id": "008rsl5XoWz5"
      },
      "execution_count": null,
      "outputs": []
    },
    {
      "cell_type": "code",
      "source": [
        "%cd my_first_dir\n",
        "# change directory (% instead of ! for system commands)\n",
        "!ls"
      ],
      "metadata": {
        "id": "PbLPFPbIoy8F"
      },
      "execution_count": null,
      "outputs": []
    },
    {
      "cell_type": "code",
      "source": [
        "!touch data.txt                       # create a file data.txt\n",
        "!ls\n",
        "!echo 'This is a test' > data.txt     # > write in a file\n",
        "!echo 'Another test' >> data.txt      # >> append to the existing text\n",
        "!cat  data.txt                        # show the content of the file"
      ],
      "metadata": {
        "id": "ufqbUvAjqFlc"
      },
      "execution_count": null,
      "outputs": []
    },
    {
      "cell_type": "code",
      "source": [
        "%cd ..\n",
        "!ls"
      ],
      "metadata": {
        "id": "8IKsvvyIpSry"
      },
      "execution_count": null,
      "outputs": []
    },
    {
      "cell_type": "markdown",
      "source": [
        "Git & GitHub\n",
        "============\n",
        "\n",
        "> \"Git is a software for tracking changes in any set of files, usually used for coordinating work among programmers collaboratively developing source code during software development.\"\n",
        "\n",
        "\n",
        "\n",
        "**Git is a Version Control System (VCS) of the distributed type. It can be used with a hoting platform for collaborative coding!**\n",
        "\n",
        "\n",
        "\n",
        ">  \"GitHub is a code hosting platform for version control and collaboration. It lets you and others work together on projects from anywhere. This tutorial teaches you GitHub essentials like repositories, branches, commits, and pull requests.\"\n"
      ],
      "metadata": {
        "id": "6B9PgiqM2P_v"
      }
    },
    {
      "cell_type": "code",
      "source": [
        "!apt-get install git"
      ],
      "metadata": {
        "id": "yH8iXujB2nui"
      },
      "execution_count": null,
      "outputs": []
    },
    {
      "cell_type": "markdown",
      "source": [
        "Have a look to the basic repository strucrure\n",
        "\n",
        "https://github.com/Dario-Caf/CMPDA\n",
        "\n",
        "https://github.com/Dario-Caf/EM-shower-simulator-with-NN\n",
        "\n",
        "Note that documentation is foundamental!!!"
      ],
      "metadata": {
        "id": "Jmri9vRH_P6D"
      }
    },
    {
      "cell_type": "code",
      "source": [
        "# use the git command to execute git operation like cloning the repository\n",
        "!git clone https://github.com/Dario-Caf/CMPDA.git"
      ],
      "metadata": {
        "id": "s1XwdsXC2ubB"
      },
      "execution_count": null,
      "outputs": []
    },
    {
      "cell_type": "markdown",
      "source": [
        "Use command like \"git pull\" to update the local version of the repository and \"git --help\" for more information."
      ],
      "metadata": {
        "id": "0LBMFM_r8vyc"
      }
    },
    {
      "cell_type": "code",
      "source": [
        "# execute a python script (%run instead of !python for system commands)\n",
        "%run CMPDA/Python_SciPy/Hopfield_model/hopfield.py"
      ],
      "metadata": {
        "id": "XjbTJySX3HFA"
      },
      "execution_count": 22,
      "outputs": []
    },
    {
      "cell_type": "markdown",
      "source": [
        "Python modules\n",
        "==============\n",
        "\n",
        "Using the Package Installer for Python (pip) you can install modules like numpy and keras."
      ],
      "metadata": {
        "id": "hkTywPWFxHiF"
      }
    },
    {
      "cell_type": "code",
      "source": [
        "!pip install numpy keras"
      ],
      "metadata": {
        "id": "oSOYZ8rdlVyP"
      },
      "execution_count": null,
      "outputs": []
    },
    {
      "cell_type": "code",
      "source": [
        "import numpy as np"
      ],
      "metadata": {
        "id": "b2reJs-D_WzW"
      },
      "execution_count": 23,
      "outputs": []
    },
    {
      "cell_type": "markdown",
      "source": [
        "Machine Learning\n",
        "================\n",
        "\n",
        "This part is taken from the repository"
      ],
      "metadata": {
        "id": "x9Boi-Zt-L6P"
      }
    },
    {
      "cell_type": "markdown",
      "source": [
        "Slides:\n",
        "\n",
        "https://github.com/Dario-Caf/CMPDA/blob/main/Machine_Learning/Slides/CMEPDA%20-%20Machine%20Learning%20-%20Lecture%201.pdf"
      ],
      "metadata": {
        "id": "HClrSe2n-ku8"
      }
    },
    {
      "cell_type": "markdown",
      "source": [
        "First exercise notebook:\n",
        "\n",
        "https://github.com/Dario-Caf/CMPDA/blob/main/Machine_Learning/ML_practice/ML_assignments-1%262.ipynb"
      ],
      "metadata": {
        "id": "KrmA0e0o-nG2"
      }
    }
  ]
}
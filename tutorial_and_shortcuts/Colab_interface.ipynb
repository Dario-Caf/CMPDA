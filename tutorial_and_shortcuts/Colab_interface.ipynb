{
  "nbformat": 4,
  "nbformat_minor": 0,
  "metadata": {
    "colab": {
      "provenance": [],
      "include_colab_link": true
    },
    "kernelspec": {
      "name": "python3",
      "display_name": "Python 3"
    },
    "language_info": {
      "name": "python"
    }
  },
  "cells": [
    {
      "cell_type": "markdown",
      "metadata": {
        "id": "view-in-github",
        "colab_type": "text"
      },
      "source": [
        "<a href=\"https://colab.research.google.com/github/Dario-Maglio/CMPDA/blob/main/tutorial_and_shortcuts/Colab_interface.ipynb\" target=\"_parent\"><img src=\"https://colab.research.google.com/assets/colab-badge.svg\" alt=\"Open In Colab\"/></a>"
      ]
    },
    {
      "cell_type": "markdown",
      "source": [
        "#Colab interface\n",
        "\n",
        "Basic introduction to the project.\n",
        "\n"
      ],
      "metadata": {
        "id": "lIl09lQS-Lcd"
      }
    },
    {
      "cell_type": "markdown",
      "source": [
        "#Get started"
      ],
      "metadata": {
        "id": "4cU4FuEE-YTz"
      }
    },
    {
      "cell_type": "markdown",
      "source": [
        "Taking attention to the path of the folder we are working in"
      ],
      "metadata": {
        "id": "Bp-Zn5yZQop4"
      }
    },
    {
      "cell_type": "code",
      "source": [
        "!pwd                     # show current path"
      ],
      "metadata": {
        "id": "7bjdiydPEtnS"
      },
      "execution_count": null,
      "outputs": []
    },
    {
      "cell_type": "markdown",
      "source": [
        "Download useful packages and import python modules"
      ],
      "metadata": {
        "id": "G-Mub-aGRMo9"
      }
    },
    {
      "cell_type": "code",
      "source": [
        "!apt-get install git\n",
        "!pip install numpy matplotlib"
      ],
      "metadata": {
        "id": "0dyO9X6zRNA1"
      },
      "execution_count": null,
      "outputs": []
    },
    {
      "cell_type": "code",
      "source": [
        "import os\n",
        "\n",
        "import numpy as np\n",
        "import matplotlib.pyplot as plt"
      ],
      "metadata": {
        "id": "CC5-I512VfKZ"
      },
      "execution_count": 20,
      "outputs": []
    },
    {
      "cell_type": "markdown",
      "source": [
        "Clone the repository and change the current directory"
      ],
      "metadata": {
        "id": "YLh8_glYGSI6"
      }
    },
    {
      "cell_type": "code",
      "execution_count": null,
      "metadata": {
        "id": "NhbD7ZH7-BCZ"
      },
      "outputs": [],
      "source": [
        "!git clone https://github.com/Dario-Maglio/CMPDA.git\n",
        "%cd CMPDA"
      ]
    },
    {
      "cell_type": "markdown",
      "source": [
        "#Module 1\n",
        "\n",
        "Description first module."
      ],
      "metadata": {
        "id": "_iENaOds_fhl"
      }
    },
    {
      "cell_type": "code",
      "source": [
        "%cd cmpda"
      ],
      "metadata": {
        "id": "GXvzGoMi_mOF"
      },
      "execution_count": null,
      "outputs": []
    },
    {
      "cell_type": "code",
      "source": [
        "!touch nome.f90"
      ],
      "metadata": {
        "id": "VZ7fF0tdCcas"
      },
      "execution_count": 11,
      "outputs": []
    },
    {
      "cell_type": "markdown",
      "source": [
        "Execute programs"
      ],
      "metadata": {
        "id": "qUMDj2hBWGHT"
      }
    },
    {
      "cell_type": "code",
      "source": [
        "# With bash commands\n",
        "!gfortran flibrary.f90 map_henon.f90 -o henon.out\n",
        "!./henon.out\n",
        "\n",
        "# With python commands\n",
        "#os.system('gfortran flibrary.f90 map_henon.f90 -o henon.out')\n",
        "#os.system('./henon.out')"
      ],
      "metadata": {
        "id": "EXk8hEeP_ynJ"
      },
      "execution_count": 40,
      "outputs": []
    },
    {
      "cell_type": "markdown",
      "source": [
        "Make calculations and stuff with the output"
      ],
      "metadata": {
        "id": "-ABxkWATWO7V"
      }
    },
    {
      "cell_type": "code",
      "source": [
        "a = np.loadtxt('points.txt', unpack='True')\n",
        "\n",
        "x = a[0, :]\n",
        "y = a[2, :]"
      ],
      "metadata": {
        "id": "HAOLkjvQaVgu"
      },
      "execution_count": 41,
      "outputs": []
    },
    {
      "cell_type": "code",
      "source": [
        "plt.figure(\"Figura 1\")\n",
        "plt.scatter(x, y, label='Points')\n",
        "plt.xlabel('Numeri')\n",
        "plt.ylabel('Risultati')\n",
        "plt.legend(loc='lower right')\n",
        "plt.show()"
      ],
      "metadata": {
        "id": "tG1Gr0mZVKjs",
        "outputId": "6442e016-3291-455d-9903-18d9764967f2",
        "colab": {
          "base_uri": "https://localhost:8080/",
          "height": 279
        }
      },
      "execution_count": 44,
      "outputs": [
        {
          "output_type": "display_data",
          "data": {
            "text/plain": [
              "<Figure size 432x288 with 1 Axes>"
            ],
            "image/png": "[encoded data removed]"
          },
          "metadata": {
            "needs_background": "light"
          }
        }
      ]
    },
    {
      "cell_type": "markdown",
      "source": [
        "At last, remove things you don't need anymore and move to the main directory"
      ],
      "metadata": {
        "id": "5I6Kf_wnWtRy"
      }
    },
    {
      "cell_type": "code",
      "source": [
        "# With bash commands\n",
        "!rm points.txt flibrary.mod henon.out\n",
        "\n",
        "# With python commands\n",
        "#os.system('rm points.txt flibrary.mod henon.out')"
      ],
      "metadata": {
        "id": "o_oubMUMWWTe"
      },
      "execution_count": null,
      "outputs": []
    },
    {
      "cell_type": "code",
      "source": [
        "%cd .."
      ],
      "metadata": {
        "id": "N1SAMxOCA-FR"
      },
      "execution_count": null,
      "outputs": []
    },
    {
      "cell_type": "markdown",
      "source": [
        "#Push to GitHub"
      ],
      "metadata": {
        "id": "sVUoeKCRBc2t"
      }
    },
    {
      "cell_type": "code",
      "source": [
        "!git pull          # update your local version of the repository"
      ],
      "metadata": {
        "id": "tYallEypBpmT"
      },
      "execution_count": null,
      "outputs": []
    },
    {
      "cell_type": "code",
      "source": [
        "!git status        # check the changes you made to your local version of the repository"
      ],
      "metadata": {
        "id": "7tVAGOyyBiJ-"
      },
      "execution_count": null,
      "outputs": []
    },
    {
      "cell_type": "code",
      "source": [
        "!git add .         # add the changes that you want to save, to the commit list "
      ],
      "metadata": {
        "id": "wCAvzVB4BsQ0"
      },
      "execution_count": 50,
      "outputs": []
    },
    {
      "cell_type": "code",
      "source": [
        "# Dario's configuration\n",
        "!git config user.email \"cafasso.dario@gmail.com\"\n",
        "!git config user.name  \"Dario_Maglio\""
      ],
      "metadata": {
        "id": "VCZwy59eCMH8"
      },
      "execution_count": 51,
      "outputs": []
    },
    {
      "cell_type": "code",
      "source": [
        "!git commit -m \"push from Colab interface\"    # save changes in your local version of the repository"
      ],
      "metadata": {
        "id": "GkXtBW9nBy3x"
      },
      "execution_count": null,
      "outputs": []
    },
    {
      "cell_type": "code",
      "source": [
        "# Generate the <TOKEN> in Profile/Setting/Developer_setting/Personal_access_token\n",
        "!git push https://Dario-Maglio:<TOKEN>@github.com/Dario-Maglio/CMPDA.git  # save changes on GitHub"
      ],
      "metadata": {
        "id": "OU3zPSc9DAhW"
      },
      "execution_count": null,
      "outputs": []
    }
  ]
}
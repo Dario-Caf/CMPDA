{
  "nbformat": 4,
  "nbformat_minor": 0,
  "metadata": {
    "colab": {
      "name": "Introduction.ipynb",
      "provenance": [],
      "authorship_tag": "ABX9TyMf7HkPGTt1s35baVJ2L1sh",
      "include_colab_link": true
    },
    "kernelspec": {
      "name": "python3",
      "display_name": "Python 3"
    },
    "language_info": {
      "name": "python"
    }
  },
  "cells": [
    {
      "cell_type": "markdown",
      "metadata": {
        "id": "view-in-github",
        "colab_type": "text"
      },
      "source": [
        "<a href=\"https://colab.research.google.com/github/Dario-Maglio/CMPDA/blob/main/tutorial_and_shortcuts/Introduction.ipynb\" target=\"_parent\"><img src=\"https://colab.research.google.com/assets/colab-badge.svg\" alt=\"Open In Colab\"/></a>"
      ]
    },
    {
      "cell_type": "markdown",
      "source": [
        "What is Colab?\n",
        "==============\n",
        "\n",
        "\"Colaboratory\", or “Colab” for short, is a product from Google Research which allows anybody to write and execute arbitrary python code through the browser as a Jupyter notebook. It is especially well suited to machine learning, data analysis and education."
      ],
      "metadata": {
        "id": "8O2k8iyujRpM"
      }
    },
    {
      "cell_type": "code",
      "source": [
        "a = [2, 4, 6]"
      ],
      "metadata": {
        "id": "HDmDBLEdwqmp"
      },
      "execution_count": null,
      "outputs": []
    },
    {
      "cell_type": "code",
      "source": [
        "a[2] += 3\n",
        "print(a)"
      ],
      "metadata": {
        "id": "HTJVbn_O5fPQ"
      },
      "execution_count": null,
      "outputs": []
    },
    {
      "cell_type": "code",
      "source": [
        "(1+2)/10 == 3/10"
      ],
      "metadata": {
        "id": "NYUlJIO-gqTE"
      },
      "execution_count": null,
      "outputs": []
    },
    {
      "cell_type": "code",
      "execution_count": null,
      "metadata": {
        "id": "bQwVHOobdiZW"
      },
      "outputs": [],
      "source": [
        "if (0.1 + 0.2) == 0.3:\n",
        "  print(\"This is true!\")\n",
        "else:\n",
        "  print(\"Remember floating point number representation!\")"
      ]
    },
    {
      "cell_type": "code",
      "source": [
        "sum = 0\n",
        "for element in a:\n",
        "  sum = sum + element\n",
        "sum"
      ],
      "metadata": {
        "id": "HW-MWNsYwmZl"
      },
      "execution_count": null,
      "outputs": []
    },
    {
      "cell_type": "markdown",
      "source": [
        "You can also use the bash commands with the \"!\" or \"%\" charachters. This environment works as a virtual machine, with dedicated processors and memory. Click on the directory image to visualize the contents."
      ],
      "metadata": {
        "id": "LMMLZn83j-5N"
      }
    },
    {
      "cell_type": "code",
      "source": [
        "!ls                                   # show the content of the current directory"
      ],
      "metadata": {
        "id": "fRxx3b15lIXT"
      },
      "execution_count": null,
      "outputs": []
    },
    {
      "cell_type": "code",
      "source": [
        "!mkdir my_first_dir                   # create a directory\n",
        "!ls"
      ],
      "metadata": {
        "id": "008rsl5XoWz5"
      },
      "execution_count": null,
      "outputs": []
    },
    {
      "cell_type": "code",
      "source": [
        "%cd my_first_dir\n",
        "# change directory (% instead of ! for system commands)\n",
        "!ls"
      ],
      "metadata": {
        "id": "PbLPFPbIoy8F"
      },
      "execution_count": null,
      "outputs": []
    },
    {
      "cell_type": "code",
      "source": [
        "!touch data.txt                       # create a file data.txt\n",
        "!ls\n",
        "!echo 'This is a test' > data.txt     # > write in a file\n",
        "!echo 'Another test' >> data.txt      # >> append to the existing text\n",
        "!cat  data.txt                        # show the content of the file"
      ],
      "metadata": {
        "id": "ufqbUvAjqFlc"
      },
      "execution_count": null,
      "outputs": []
    },
    {
      "cell_type": "code",
      "source": [
        "%cd ..\n",
        "!ls"
      ],
      "metadata": {
        "id": "8IKsvvyIpSry"
      },
      "execution_count": null,
      "outputs": []
    },
    {
      "cell_type": "markdown",
      "source": [
        "**In \"Runtime\" -> \"Change runtime type\" -> \"Hardware acceleretor\" you can select a GPU!**"
      ],
      "metadata": {
        "id": "kswoZUVK6ZKc"
      }
    },
    {
      "cell_type": "code",
      "source": [
        "!lscpu |grep 'Model name'"
      ],
      "metadata": {
        "id": "EbJ-vaaM6_rW"
      },
      "execution_count": null,
      "outputs": []
    },
    {
      "cell_type": "code",
      "source": [
        "!nvidia-smi"
      ],
      "metadata": {
        "id": "jSTxu7Jz7ISk"
      },
      "execution_count": null,
      "outputs": []
    },
    {
      "cell_type": "code",
      "source": [
        "!lscpu | grep 'Number of threads/core:'"
      ],
      "metadata": {
        "id": "UcfNT20c8mdt"
      },
      "execution_count": null,
      "outputs": []
    },
    {
      "cell_type": "markdown",
      "source": [
        "Git & GitHub\n",
        "============\n",
        "\n",
        "\n",
        "Git is a Version Control System (VCS) of the distributed type. It can be used with a hoting platform for collaborative coding!"
      ],
      "metadata": {
        "id": "6B9PgiqM2P_v"
      }
    },
    {
      "cell_type": "markdown",
      "source": [
        "> \"Git is a software for tracking changes in any set of files, usually used for coordinating work among programmers collaboratively developing source code during software development.\"\n",
        "\n",
        "\n",
        ">  \"GitHub is a code hosting platform for version control and collaboration. It lets you and others work together on projects from anywhere. This tutorial teaches you GitHub essentials like repositories, branches, commits, and pull requests.\"\n"
      ],
      "metadata": {
        "id": "4OcxoYYu7keh"
      }
    },
    {
      "cell_type": "code",
      "source": [
        "!apt-get install git"
      ],
      "metadata": {
        "id": "yH8iXujB2nui"
      },
      "execution_count": null,
      "outputs": []
    },
    {
      "cell_type": "markdown",
      "source": [
        "Have a look to the basic repository strucrure\n",
        "\n",
        "https://github.com/Dario-Maglio/CMPDA\n",
        "\n",
        "https://github.com/Dario-Maglio/EM-shower-simulator-with-NN\n",
        "\n",
        "Note that documentation is foundamental!!!"
      ],
      "metadata": {
        "id": "Jmri9vRH_P6D"
      }
    },
    {
      "cell_type": "code",
      "source": [
        "# use the git command to execute git operation like cloning the repository\n",
        "!git clone https://github.com/Dario-Caf/CMPDA.git"
      ],
      "metadata": {
        "id": "s1XwdsXC2ubB"
      },
      "execution_count": null,
      "outputs": []
    },
    {
      "cell_type": "markdown",
      "source": [
        "Use command like \"git pull\" to update the local version of the repository and \"git --help\" for more information."
      ],
      "metadata": {
        "id": "0LBMFM_r8vyc"
      }
    },
    {
      "cell_type": "code",
      "source": [
        "# execute a python script (%run instead of !python for system commands)\n",
        "%run CMPDA/Python_SciPy/Hopfield_model/hopfield.py"
      ],
      "metadata": {
        "id": "XjbTJySX3HFA"
      },
      "execution_count": null,
      "outputs": []
    },
    {
      "cell_type": "markdown",
      "source": [
        "Python modules\n",
        "==============\n",
        "\n",
        "Basic examples of python, numpy and classes."
      ],
      "metadata": {
        "id": "hkTywPWFxHiF"
      }
    },
    {
      "cell_type": "markdown",
      "source": [
        "Using the Package Installer for Python (pip) you can install modules like numpy and keras."
      ],
      "metadata": {
        "id": "d0-sy8OFBtiw"
      }
    },
    {
      "cell_type": "code",
      "source": [
        "!pip install numpy matplotlib scipy keras"
      ],
      "metadata": {
        "id": "oSOYZ8rdlVyP"
      },
      "execution_count": null,
      "outputs": []
    },
    {
      "cell_type": "markdown",
      "source": [
        "Imports allow you to use functions and classes in your code"
      ],
      "metadata": {
        "id": "gI8NraFt9ASz"
      }
    },
    {
      "cell_type": "code",
      "source": [
        "import numpy as np\n",
        "import matplotlib.pyplot as plt\n",
        "from scipy.interpolate import InterpolatedUnivariateSpline as Spline"
      ],
      "metadata": {
        "id": "b2reJs-D_WzW"
      },
      "execution_count": null,
      "outputs": []
    },
    {
      "cell_type": "markdown",
      "source": [
        "Is everything in python an object?"
      ],
      "metadata": {
        "id": "UURnbqrN9lis"
      }
    },
    {
      "cell_type": "code",
      "source": [
        "a = 2\n",
        "print(type(2.))\n",
        "print(type(a))\n",
        "print(type(np))\n",
        "print(type(plt))"
      ],
      "metadata": {
        "id": "7LCoJjyo9tzC"
      },
      "execution_count": null,
      "outputs": []
    },
    {
      "cell_type": "code",
      "source": [
        "dar = {\"name\": \"Dario\", \"age\": 18, \"city\": \"Pisa\"}\n",
        "print(type(dar))\n",
        "print(dar[\"name\"])"
      ],
      "metadata": {
        "id": "JdzaQtRP-Skj"
      },
      "execution_count": null,
      "outputs": []
    },
    {
      "cell_type": "code",
      "source": [
        "for key, item in dar.items():\n",
        "  print(f\"Note that {dar[key]} is equal to {item}.\")"
      ],
      "metadata": {
        "id": "yxXONY9--1k4"
      },
      "execution_count": null,
      "outputs": []
    },
    {
      "cell_type": "markdown",
      "source": [
        "An object is an instance of a class.\n",
        "Define a class with its \"members\" as follows.\n",
        "\n",
        "Attributes (variables) and methods (functions) are members of the class.\n",
        "\n",
        "\"\\_\\_init\\_\\_\" is a method named constructor in which the class attributes are defined. Other methods are introduced in the same way.\n",
        "\n",
        "The keyword \"self\" refers to the fact that each function take as input the state of the object."
      ],
      "metadata": {
        "id": "UF-8moLV_f5E"
      }
    },
    {
      "cell_type": "code",
      "source": [
        "class ProbabilityDensityFunction:\n",
        "    \"\"\"this class generates pseudo random number generator with a pdf given as\n",
        "       input through a set of points\n",
        "    \"\"\"\n",
        "\n",
        "    def __init__(self, x, y, o = 3):\n",
        "        \"\"\"makes a spline of order o, on the x interval of the\n",
        "           probability density function associated to y.\n",
        "           It is not normalized by default\n",
        "        \"\"\"\n",
        "        self._x = x\n",
        "        self._y = y\n",
        "        self._o = o\n",
        "        self._spline = Spline(self._x, self._y, k = self._o)\n",
        "        normal = self._spline.integral(x[0], x[-1])\n",
        "        print(f'the spline normalization coefficent is {normal}')\n",
        "        self._y = self._y / normal\n",
        "        self._spline = Spline(self._x, self._y, k = self._o)\n",
        "\n",
        "    def __call__(self, points):\n",
        "        \"\"\"evaluates the class on a set of points, returning the associated pdf\n",
        "        \"\"\"\n",
        "        return self._spline(points)\n",
        "\n",
        "    def interval(self, a, b):\n",
        "        \"\"\"calculates the probability for the random variable to be included in\n",
        "           a generic interval\n",
        "        \"\"\"\n",
        "        return self._spline.integral(a, b)\n",
        "\n",
        "    def random(self):\n",
        "        \"\"\"throws random numbers according to the given distribution\n",
        "        \"\"\"\n",
        "        f = np.array([self.interval(self._x[0], item) for item in self._x])\n",
        "        freverse = Spline(f, self._x, k = self._o)\n",
        "        return freverse(np.random.random())\n",
        "\n",
        "    def random_array(self, len):\n",
        "        \"\"\"creates an array with random numbers according to the distribution\n",
        "        \"\"\"\n",
        "        return np.array([self.random() for i in range(len)])"
      ],
      "metadata": {
        "id": "l5nv5rSW8a2A"
      },
      "execution_count": null,
      "outputs": []
    },
    {
      "cell_type": "markdown",
      "source": [
        "**(It is important because ML models are made up of objects called Layers!)**"
      ],
      "metadata": {
        "id": "VaczNCH3ACCc"
      }
    },
    {
      "cell_type": "code",
      "source": [
        "if __name__ == '__main__':\n",
        "    \"\"\"Here we test the functionalities of our class.\"\"\"\n",
        "    a = -5.\n",
        "    b = -a\n",
        "    n = 101\n",
        "    x = np.linspace(a, b, n)\n",
        "    x0 = np.linspace(a/2, b/2, int(n/2))\n",
        "\n",
        "    y1 = np.full(n, 1/(b-a))\n",
        "    homogeneus = ProbabilityDensityFunction(x, y1)\n",
        "    print(homogeneus(x0))\n",
        "    print(homogeneus.interval(a, 0.))\n",
        "    r1 = homogeneus.random_array(100*n)\n",
        "    plt.figure('Omogenea')\n",
        "    plt.title('Distribuzione')\n",
        "    plt.xlabel('Dominio')\n",
        "    plt.ylabel('Frequenza')\n",
        "    nn, bi, patches = plt.hist(r1, density=True)\n",
        "    plt.show()\n",
        "\n",
        "    y2 = np.exp(-(x**2)/2)/np.sqrt(2 * np.pi)\n",
        "    gauss = ProbabilityDensityFunction(x, y2)\n",
        "    print(gauss(x0))\n",
        "    print(gauss.interval(a, 0.))\n",
        "    r2 = gauss.random_array(100*n)\n",
        "    plt.figure('Gauss')\n",
        "    plt.title('Distribuzione')\n",
        "    plt.xlabel('Dominio')\n",
        "    plt.ylabel('Frequenza')\n",
        "    nn, bi, patches = plt.hist(r2, bins=n, density=True)\n",
        "    plt.show()\n",
        "\n",
        "\n",
        "    y3 = np.exp(-x)\n",
        "    gauss = ProbabilityDensityFunction(x, y3)\n",
        "    print(gauss(x0))\n",
        "    print(gauss.interval(a, 0.))\n",
        "    r3 = gauss.random_array(100*n)\n",
        "    plt.figure('Strange')\n",
        "    plt.title('Distribuzione')\n",
        "    plt.xlabel('Dominio')\n",
        "    plt.ylabel('Frequenza')\n",
        "    nn, bi, patches = plt.hist(r3, bins=n, density=True)\n",
        "    plt.show()\n"
      ],
      "metadata": {
        "id": "cbVLu7v5ACaZ"
      },
      "execution_count": null,
      "outputs": []
    },
    {
      "cell_type": "markdown",
      "source": [
        "Machine Learning\n",
        "================\n",
        "\n",
        "This part is taken from the repository and the cmepda course"
      ],
      "metadata": {
        "id": "x9Boi-Zt-L6P"
      }
    },
    {
      "cell_type": "markdown",
      "source": [
        "Slides:\n",
        "\n",
        "https://github.com/Dario-Maglio/CMPDA/blob/main/Machine_Learning/Slides/CMEPDA%20-%20Machine%20Learning%20-%20Lecture%201.pdf"
      ],
      "metadata": {
        "id": "HClrSe2n-ku8"
      }
    },
    {
      "cell_type": "markdown",
      "source": [
        "First exercise notebook:\n",
        "\n",
        "https://github.com/Dario-Maglio/CMPDA/blob/main/Machine_Learning/ML_practice/ML_assignments-1%262.ipynb"
      ],
      "metadata": {
        "id": "KrmA0e0o-nG2"
      }
    }
  ]
}